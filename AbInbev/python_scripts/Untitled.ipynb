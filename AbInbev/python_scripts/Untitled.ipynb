{
 "cells": [
  {
   "cell_type": "code",
   "execution_count": 148,
   "metadata": {
    "collapsed": true
   },
   "outputs": [],
   "source": [
    "import json\n",
    "from pprint import pprint\n",
    "import pandas as pd"
   ]
  },
  {
   "cell_type": "code",
   "execution_count": 149,
   "metadata": {},
   "outputs": [
    {
     "name": "stdout",
     "output_type": "stream",
     "text": [
      "[u'crs', u'type', u'features']\n"
     ]
    }
   ],
   "source": [
    "with open('../geojson.geojson') as data_file:    \n",
    "    data = json.load(data_file)\n",
    "print data.keys()\n",
    "df = pd.DataFrame(data['features'])"
   ]
  },
  {
   "cell_type": "code",
   "execution_count": 150,
   "metadata": {},
   "outputs": [
    {
     "name": "stdout",
     "output_type": "stream",
     "text": [
      "<type 'list'>\n",
      "<type 'dict'>\n",
      "{u'geometry': {u'type': u'MultiPolygon', u'coordinates': [[[[-60, -38], [-60, -38], [-60, -38], [-60, -38], [-60, -38], [-60, -38], [-60, -38], [-60, -38], [-60, -38], [-60, -38], [-60, -38]]]]}, u'type': u'Feature', u'properties': {u'mujer': 25.0, u'toponimo_i': 334455, u'varon': 31.0, u'link': u'060141201', u'totalpobl': 56.0, u'hogares': 17.0, u'viv_part_h': 17.0, u'viviendasp': 32.0}}\n",
      "Index([u'geometry', u'properties', u'type'], dtype='object')\n"
     ]
    }
   ],
   "source": [
    "print type(data['features'])\n",
    "print type(data['features'][1])\n",
    "print data['features'][1]\n",
    "#print data['features'][0].keys()\n",
    "#print data['features'][0]['properties']\n",
    "#print data['features'][0]['properties']['mujer']\n",
    "#print df.columns"
   ]
  },
  {
   "cell_type": "code",
   "execution_count": 151,
   "metadata": {},
   "outputs": [],
   "source": [
    "edades = pd.read_csv('../data/data_hogares_viviendas/personas.csv')\n",
    "hogares = pd.read_csv('../data/data_hogares_viviendas/HOGAR-TOTPERS.csv')\n",
    "info = pd.merge(edades,hogares,on='radio')\n",
    "res = df.join(info, lsuffix='link', rsuffix='radio')"
   ]
  },
  {
   "cell_type": "code",
   "execution_count": 152,
   "metadata": {},
   "outputs": [],
   "source": [
    "#res['properties']['TOTALradio'] = res['TOTALradio']\n",
    "def f(row):\n",
    "    x = row['properties']\n",
    "    x['edad_0'] = row['edad_0']\n",
    "    return x\n",
    "res['properties2'] = res.apply(lambda row: f(row), axis=1)"
   ]
  },
  {
   "cell_type": "code",
   "execution_count": 154,
   "metadata": {},
   "outputs": [],
   "source": [
    "df['properties'] = res['properties2']\n",
    "z = df.T.to_dict().values() # pd dataframe => list of dictionaries\n",
    "data['features'] = z"
   ]
  },
  {
   "cell_type": "code",
   "execution_count": 156,
   "metadata": {},
   "outputs": [],
   "source": [
    "import geojson\n",
    "import tempfile\n",
    "\n",
    "with open('out.geojson', 'w') as outfile:\n",
    "      geojson.dump(data, outfile)"
   ]
  }
 ],
 "metadata": {
  "kernelspec": {
   "display_name": "Python 2",
   "language": "python",
   "name": "python2"
  },
  "language_info": {
   "codemirror_mode": {
    "name": "ipython",
    "version": 2
   },
   "file_extension": ".py",
   "mimetype": "text/x-python",
   "name": "python",
   "nbconvert_exporter": "python",
   "pygments_lexer": "ipython2",
   "version": "2.7.10"
  }
 },
 "nbformat": 4,
 "nbformat_minor": 2
}
