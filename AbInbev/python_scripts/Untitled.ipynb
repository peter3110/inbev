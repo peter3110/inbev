{
 "cells": [
  {
   "cell_type": "code",
   "execution_count": 1,
   "metadata": {
    "collapsed": true
   },
   "outputs": [],
   "source": [
    "import json\n",
    "from pprint import pprint\n",
    "import pandas as pd"
   ]
  },
  {
   "cell_type": "code",
   "execution_count": 4,
   "metadata": {},
   "outputs": [
    {
     "name": "stdout",
     "output_type": "stream",
     "text": [
      "[u'crs', u'type', u'features']\n"
     ]
    }
   ],
   "source": [
    "with open('../data1.json') as data_file:    \n",
    "    data = json.load(data_file)\n",
    "print data.keys()\n",
    "df = pd.DataFrame(data['features'])"
   ]
  },
  {
   "cell_type": "code",
   "execution_count": 36,
   "metadata": {},
   "outputs": [
    {
     "name": "stdout",
     "output_type": "stream",
     "text": [
      "{u'mujer': 121, u'toponimo_i': 334477, 'TOTAL_x': 327, u'varon': 126, u'link': u'060700302', u'totalpobl': 247, u'hogares': 81, u'viv_part_h': 76, u'viviendasp': 145, '2 Mujer': 182}\n"
     ]
    }
   ],
   "source": [
    "# LOAD CSV DATA\n",
    "edades  = pd.read_csv('../data/csvs_radios/persona/PERSONA-P02.csv')\n",
    "hogares = pd.read_csv('../data/csvs_radios/hogar/HOGAR-TOTPERS.csv')\n",
    "\n",
    "# DATA CLEANING\n"
   ]
  },
  {
   "cell_type": "code",
   "execution_count": null,
   "metadata": {
    "collapsed": true
   },
   "outputs": [],
   "source": [
    "# MERGE CSV DATA WITH GEOJSON DATA\n",
    "info = pd.merge(edades,hogares,on='radio')\n",
    "res = df.join(info, lsuffix='link', rsuffix='radio')"
   ]
  },
  {
   "cell_type": "code",
   "execution_count": null,
   "metadata": {
    "collapsed": true
   },
   "outputs": [],
   "source": [
    "# CREATE NEW GEOJSON FILE\n",
    "for index, row in res.iterrows():\n",
    "    row['properties'].update({\n",
    "        '2 Mujer': row['2 Mujer'], \n",
    "        'TOTAL_x' : row['TOTAL_x']\n",
    "    })\n",
    "    # Test update ok\n",
    "    if(index == 10):\n",
    "        print row['properties']"
   ]
  },
  {
   "cell_type": "code",
   "execution_count": 52,
   "metadata": {
    "collapsed": true
   },
   "outputs": [],
   "source": [
    "import geojson\n",
    "import tempfile\n",
    "\n",
    "with open('../data3.json', 'w') as outfile:\n",
    "      geojson.dump(data, outfile)"
   ]
  }
 ],
 "metadata": {
  "kernelspec": {
   "display_name": "Python 2",
   "language": "python",
   "name": "python2"
  },
  "language_info": {
   "codemirror_mode": {
    "name": "ipython",
    "version": 2
   },
   "file_extension": ".py",
   "mimetype": "text/x-python",
   "name": "python",
   "nbconvert_exporter": "python",
   "pygments_lexer": "ipython2",
   "version": "2.7.10"
  }
 },
 "nbformat": 4,
 "nbformat_minor": 2
}
