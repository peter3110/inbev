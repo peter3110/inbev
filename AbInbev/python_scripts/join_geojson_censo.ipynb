{
 "cells": [
  {
   "cell_type": "code",
   "execution_count": 38,
   "metadata": {},
   "outputs": [],
   "source": [
    "import json\n",
    "from pprint import pprint\n",
    "import pandas as pd\n",
    "import geojson\n",
    "import tempfile"
   ]
  },
  {
   "cell_type": "code",
   "execution_count": 39,
   "metadata": {},
   "outputs": [],
   "source": [
    "src_data_caba = '../data_caba.json'\n",
    "dst_data_caba = '../join_data_caba.json'\n",
    "\n",
    "src_data_gba  = '../data_gba.json'\n",
    "dst_data_gba  = '../join_data_gba.json'"
   ]
  },
  {
   "cell_type": "code",
   "execution_count": 112,
   "metadata": {},
   "outputs": [],
   "source": [
    "def estandarizar_keys_censo(key):\n",
    "    new_key = key.lower()\n",
    "    if (new_key == 'mujeres') : new_key = 'mujer'\n",
    "    if (new_key == 'varones') : new_key = 'varon'\n",
    "    if (new_key == 'totalpobl') : new_key = 'tot_pob'\n",
    "    if (new_key == 'viviendasp') : new_key = 'viv_part'\n",
    "    return new_key\n",
    "    \n",
    "def generar_data_mapa(src_data, dst_data):\n",
    "    with open(src_data) as data_file:    \n",
    "        data = json.load(data_file)\n",
    "    \n",
    "    # Estandarizacion de keys\n",
    "    for row in data['features']:\n",
    "        row['properties'] = dict(\n",
    "            (estandarizar_keys_censo(k), v) \n",
    "            for k,v in row['properties'].items())\n",
    "\n",
    "    df = pd.DataFrame(data['features'])\n",
    "\n",
    "    # LOAD CSV DATA\n",
    "    edades  = pd.read_csv('../data/csvs_radios/persona/PERSONA-P02.csv', encoding='latin-1')\n",
    "    hogares = pd.read_csv('../data/csvs_radios/hogar/HOGAR-TOTPERS.csv', encoding='latin-1')\n",
    "\n",
    "    # MERGE CSV DATA WITH GEOJSON DATA\n",
    "    info = pd.merge(edades,hogares,on='radio')\n",
    "    res = df.join(info, lsuffix='link', rsuffix='radio')\n",
    "    \n",
    "    # CREATE NEW GEOJSON FILE\n",
    "    for index, row in res.iterrows():\n",
    "        row['properties'].update({\n",
    "            '2 Mujer': row['2 Mujer'], \n",
    "            'TOTAL_x' : row['TOTAL_x']\n",
    "        })\n",
    "        if(index == 10):\n",
    "            print(row['properties'])\n",
    "    # Genero json con datos para el mapa\n",
    "    with open(dst_data, 'w') as outfile:\n",
    "          geojson.dump(data, outfile)"
   ]
  },
  {
   "cell_type": "code",
   "execution_count": 113,
   "metadata": {},
   "outputs": [
    {
     "name": "stdout",
     "output_type": "stream",
     "text": [
      "{'area': 58283.5, 'perimeter': 995.418, 'pais0210_': 12, 'pais0210_i': 11, 'prov': '02', 'depto': '013', 'frac': '01', 'radio': '06', 'tipo': 'U', 'link': '020130106', 'varon': 430.0, 'mujer': 452.0, 'tot_pob': 882.0, 'hogares': 386.0, 'viv_part': 519.0, 'viv_part_h': 356.0, '2 Mujer': 182, 'TOTAL_x': 327}\n"
     ]
    }
   ],
   "source": [
    "generar_data_mapa(src_data_caba, dst_data_caba)"
   ]
  },
  {
   "cell_type": "code",
   "execution_count": 114,
   "metadata": {},
   "outputs": [
    {
     "name": "stdout",
     "output_type": "stream",
     "text": [
      "{'toponimo_i': 334477, 'link': '060700302', 'varon': 126, 'mujer': 121, 'tot_pob': 247, 'hogares': 81, 'viv_part': 145, 'viv_part_h': 76, '2 Mujer': 182, 'TOTAL_x': 327}\n"
     ]
    }
   ],
   "source": [
    "generar_data_mapa(src_data_gba, dst_data_gba)"
   ]
  },
  {
   "cell_type": "code",
   "execution_count": null,
   "metadata": {},
   "outputs": [],
   "source": []
  }
 ],
 "metadata": {
  "kernelspec": {
   "display_name": "Python 3",
   "language": "python",
   "name": "python3"
  },
  "language_info": {
   "codemirror_mode": {
    "name": "ipython",
    "version": 3
   },
   "file_extension": ".py",
   "mimetype": "text/x-python",
   "name": "python",
   "nbconvert_exporter": "python",
   "pygments_lexer": "ipython3",
   "version": "3.6.3"
  }
 },
 "nbformat": 4,
 "nbformat_minor": 2
}
