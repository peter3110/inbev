{
 "cells": [
  {
   "cell_type": "code",
   "execution_count": 11,
   "metadata": {
    "collapsed": true
   },
   "outputs": [],
   "source": [
    "import json\n",
    "from pprint import pprint\n",
    "import pandas as pd"
   ]
  },
  {
   "cell_type": "code",
   "execution_count": 38,
   "metadata": {},
   "outputs": [
    {
     "name": "stdout",
     "output_type": "stream",
     "text": [
      "[u'crs', u'type', u'features']\n"
     ]
    }
   ],
   "source": [
    "with open('../geojson.geojson') as data_file:    \n",
    "    data = json.load(data_file)\n",
    "print data.keys()\n",
    "df = pd.DataFrame(data['features'])"
   ]
  },
  {
   "cell_type": "code",
   "execution_count": 143,
   "metadata": {},
   "outputs": [
    {
     "name": "stdout",
     "output_type": "stream",
     "text": [
      "<type 'list'>\n",
      "<type 'dict'>\n",
      "{u'geometry': {u'type': u'MultiPolygon', u'coordinates': [[[[-60, -38], [-60, -38], [-60, -38], [-60, -38], [-60, -38], [-60, -38], [-60, -38], [-60, -38], [-60, -38], [-60, -38], [-60, -38]]]]}, u'type': u'Feature', u'properties': {u'mujer': 25.0, u'toponimo_i': 334455, 'TOTALradio': 1, 'edad_0': 18, u'varon': 31.0, u'link': u'060141201', u'totalpobl': 56.0, u'hogares': 17.0, u'viv_part_h': 17.0, u'viviendasp': 32.0}}\n",
      "Index([u'geometry', u'properties', u'type'], dtype='object')\n"
     ]
    }
   ],
   "source": [
    "print type(data['features'])\n",
    "print type(data['features'][1])\n",
    "print data['features'][1]\n",
    "#print data['features'][0].keys()\n",
    "#print data['features'][0]['properties']\n",
    "#print data['features'][0]['properties']['mujer']\n",
    "print df.columns"
   ]
  },
  {
   "cell_type": "code",
   "execution_count": 79,
   "metadata": {},
   "outputs": [
    {
     "name": "stdout",
     "output_type": "stream",
     "text": [
      "Index([u'radio', u'edad_0', u'edad_1', u'edad_2', u'edad_3', u'edad_4',\n",
      "       u'edad_5', u'edad_6', u'edad_7', u'edad_8',\n",
      "       ...\n",
      "       u'edad_102', u'edad_103', u'edad_104', u'edad_105', u'edad_106',\n",
      "       u'edad_107', u'edad_108', u'edad_109', u'edad_110', u'TOTAL'],\n",
      "      dtype='object', length=113)\n",
      "Index([u'radio', u'1 1', u'2 2', u'3 3', u'4 4', u'5 5', u'6 6', u'7 7',\n",
      "       u'8 8 y mas', u'TOTAL'],\n",
      "      dtype='object')\n"
     ]
    }
   ],
   "source": [
    "edades = pd.read_csv('../data/data_hogares_viviendas/personas.csv')\n",
    "hogares = pd.read_csv('../data/data_hogares_viviendas/HOGAR-TOTPERS.csv')\n",
    "print edades.columns\n",
    "print hogares.columns"
   ]
  },
  {
   "cell_type": "code",
   "execution_count": 122,
   "metadata": {},
   "outputs": [
    {
     "name": "stdout",
     "output_type": "stream",
     "text": [
      "Index([  u'geometry', u'properties',       u'type',      u'radio',\n",
      "           u'edad_0',     u'edad_1',     u'edad_2',     u'edad_3',\n",
      "           u'edad_4',     u'edad_5',\n",
      "       ...\n",
      "          u'TOTAL_x',        u'1 1',        u'2 2',        u'3 3',\n",
      "              u'4 4',        u'5 5',        u'6 6',        u'7 7',\n",
      "        u'8 8 y mas',    u'TOTAL_y'],\n",
      "      dtype='object', length=125)\n"
     ]
    }
   ],
   "source": [
    "info = pd.merge(edades,hogares,on='radio')\n",
    "res = df.join(info, lsuffix='link', rsuffix='radio')"
   ]
  },
  {
   "cell_type": "code",
   "execution_count": 125,
   "metadata": {},
   "outputs": [],
   "source": [
    "#res['properties']['TOTALradio'] = res['TOTALradio']\n",
    "def f(row):\n",
    "    x = row['properties']\n",
    "    x['edad_0'] = row['edad_0']\n",
    "    return x\n",
    "res['properties2'] = res.apply(lambda row: f(row), axis=1)#row['edad_0'], axis=1)"
   ]
  },
  {
   "cell_type": "code",
   "execution_count": 146,
   "metadata": {},
   "outputs": [
    {
     "name": "stdout",
     "output_type": "stream",
     "text": [
      "{u'geometry': {u'type': u'MultiPolygon', u'coordinates': [[[[-59, -34], [-59, -34], [-59, -34], [-59, -34], [-59, -34], [-59, -34], [-59, -34], [-59, -34], [-59, -34], [-59, -34], [-59, -34], [-59, -34], [-59, -34], [-59, -34], [-59, -34], [-59, -34], [-59, -34], [-59, -34], [-59, -34], [-59, -34], [-59, -34], [-59, -34], [-59, -34], [-59, -34]]]]}, u'type': u'Feature', u'properties': {u'mujer': 1006.0, u'toponimo_i': 331355, 'TOTALradio': 1, 'edad_0': 9, u'varon': 997.0, u'link': u'068821704', u'totalpobl': 2003.0, u'hogares': 485.0, u'viv_part_h': 460.0, u'viviendasp': 483.0}}\n"
     ]
    }
   ],
   "source": [
    "df['properties'] = res['properties2']\n",
    "z = df.T.to_dict().values() # pd dataframe => list of dictionaries\n",
    "print z[0]"
   ]
  }
 ],
 "metadata": {
  "kernelspec": {
   "display_name": "Python 2",
   "language": "python",
   "name": "python2"
  },
  "language_info": {
   "codemirror_mode": {
    "name": "ipython",
    "version": 2
   },
   "file_extension": ".py",
   "mimetype": "text/x-python",
   "name": "python",
   "nbconvert_exporter": "python",
   "pygments_lexer": "ipython2",
   "version": "2.7.10"
  }
 },
 "nbformat": 4,
 "nbformat_minor": 2
}
